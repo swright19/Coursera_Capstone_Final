{
    "cells": [
        {
            "cell_type": "markdown",
            "metadata": {},
            "source": "# Understanding the Chinese Restaurant Market In New York City"
        },
        {
            "cell_type": "markdown",
            "metadata": {},
            "source": "## Sarah Wright"
        },
        {
            "cell_type": "markdown",
            "metadata": {
                "collapsed": true
            },
            "source": "**Introduction/Business Problem**\n\nA Chinese restaurant chain are looking to open a new restaurant in New York City, and they need to understand where the best place would be to do this. Tourists are the target market. They need to find out which neighborhoods are the most densely saturated with hotels, where clusters of restaurants are, and how Chinese restaurants specifically are spread throughout the city. \n"
        },
        {
            "cell_type": "markdown",
            "metadata": {},
            "source": "**Data**\n\nFoursquare location data will be used to solve this problem. The following variables will be used specifically:\n-\tHotel addresses, names and coordinates to understand where clusters of hotels are placed throughout the city\n-\tRestaurant addresses, names and coordinates to understand where clusters of restaurants are in close proximity to the hotels\n-\tRestaurant categories and locations, specifically Chinese restaurants, to identify where demand might be\n"
        },
        {
            "cell_type": "code",
            "execution_count": null,
            "metadata": {},
            "outputs": [],
            "source": ""
        }
    ],
    "metadata": {
        "kernelspec": {
            "display_name": "Python 3.6",
            "language": "python",
            "name": "python3"
        },
        "language_info": {
            "codemirror_mode": {
                "name": "ipython",
                "version": 3
            },
            "file_extension": ".py",
            "mimetype": "text/x-python",
            "name": "python",
            "nbconvert_exporter": "python",
            "pygments_lexer": "ipython3",
            "version": "3.6.9"
        }
    },
    "nbformat": 4,
    "nbformat_minor": 1
}